{
 "cells": [
  {
   "cell_type": "code",
   "execution_count": 2,
   "metadata": {},
   "outputs": [],
   "source": [
    "import pandas as pd\n",
    "import numpy as np\n",
    "import matplotlib.pyplot as plt"
   ]
  },
  {
   "cell_type": "code",
   "execution_count": 3,
   "metadata": {},
   "outputs": [],
   "source": [
    "source = 'Bitstamp'\n",
    "crypto = 'XRP'\n",
    "market = 'USD'\n",
    "year = '2021'\n",
    "dur_type = 'minute'\n",
    "name = f'{source}_{crypto}{market}_{year}_{dur_type}.csv'\n",
    "df = pd.read_csv(f'../data/{name}', skiprows=1, parse_dates=True)\n",
    "df = df[['date', 'open', 'high', 'low', 'close', f'Volume {crypto}']]\n",
    "df['date'] = pd.to_datetime(df['date'])\n",
    "df.sort_values(by='date', inplace=True, ascending=True)\n",
    "df.reset_index(inplace=True)"
   ]
  },
  {
   "cell_type": "code",
   "execution_count": 214,
   "metadata": {},
   "outputs": [
    {
     "data": {
      "text/html": [
       "<div>\n",
       "<style scoped>\n",
       "    .dataframe tbody tr th:only-of-type {\n",
       "        vertical-align: middle;\n",
       "    }\n",
       "\n",
       "    .dataframe tbody tr th {\n",
       "        vertical-align: top;\n",
       "    }\n",
       "\n",
       "    .dataframe thead th {\n",
       "        text-align: right;\n",
       "    }\n",
       "</style>\n",
       "<table border=\"1\" class=\"dataframe\">\n",
       "  <thead>\n",
       "    <tr style=\"text-align: right;\">\n",
       "      <th></th>\n",
       "      <th>index</th>\n",
       "      <th>date</th>\n",
       "      <th>open</th>\n",
       "      <th>high</th>\n",
       "      <th>low</th>\n",
       "      <th>close</th>\n",
       "      <th>Volume XRP</th>\n",
       "    </tr>\n",
       "  </thead>\n",
       "  <tbody>\n",
       "    <tr>\n",
       "      <th>455459</th>\n",
       "      <td>13</td>\n",
       "      <td>2021-11-13 07:00:00</td>\n",
       "      <td>1.18935</td>\n",
       "      <td>1.18966</td>\n",
       "      <td>1.18811</td>\n",
       "      <td>1.18811</td>\n",
       "      <td>17609.185584</td>\n",
       "    </tr>\n",
       "    <tr>\n",
       "      <th>455460</th>\n",
       "      <td>12</td>\n",
       "      <td>2021-11-13 07:01:00</td>\n",
       "      <td>1.18811</td>\n",
       "      <td>1.18811</td>\n",
       "      <td>1.18786</td>\n",
       "      <td>1.18786</td>\n",
       "      <td>3884.133632</td>\n",
       "    </tr>\n",
       "    <tr>\n",
       "      <th>455461</th>\n",
       "      <td>11</td>\n",
       "      <td>2021-11-13 07:02:00</td>\n",
       "      <td>1.18746</td>\n",
       "      <td>1.18746</td>\n",
       "      <td>1.18719</td>\n",
       "      <td>1.18719</td>\n",
       "      <td>2296.059401</td>\n",
       "    </tr>\n",
       "    <tr>\n",
       "      <th>455462</th>\n",
       "      <td>10</td>\n",
       "      <td>2021-11-13 07:03:00</td>\n",
       "      <td>1.18699</td>\n",
       "      <td>1.18699</td>\n",
       "      <td>1.18615</td>\n",
       "      <td>1.18615</td>\n",
       "      <td>8104.118132</td>\n",
       "    </tr>\n",
       "    <tr>\n",
       "      <th>455463</th>\n",
       "      <td>9</td>\n",
       "      <td>2021-11-13 07:04:00</td>\n",
       "      <td>1.18637</td>\n",
       "      <td>1.18692</td>\n",
       "      <td>1.18590</td>\n",
       "      <td>1.18692</td>\n",
       "      <td>14174.889000</td>\n",
       "    </tr>\n",
       "    <tr>\n",
       "      <th>455464</th>\n",
       "      <td>8</td>\n",
       "      <td>2021-11-13 07:05:00</td>\n",
       "      <td>1.18693</td>\n",
       "      <td>1.18704</td>\n",
       "      <td>1.18693</td>\n",
       "      <td>1.18704</td>\n",
       "      <td>8426.218342</td>\n",
       "    </tr>\n",
       "    <tr>\n",
       "      <th>455465</th>\n",
       "      <td>7</td>\n",
       "      <td>2021-11-13 07:06:00</td>\n",
       "      <td>1.18704</td>\n",
       "      <td>1.18711</td>\n",
       "      <td>1.18704</td>\n",
       "      <td>1.18711</td>\n",
       "      <td>301.891636</td>\n",
       "    </tr>\n",
       "    <tr>\n",
       "      <th>455466</th>\n",
       "      <td>6</td>\n",
       "      <td>2021-11-13 07:07:00</td>\n",
       "      <td>1.18712</td>\n",
       "      <td>1.18712</td>\n",
       "      <td>1.18638</td>\n",
       "      <td>1.18638</td>\n",
       "      <td>6401.207537</td>\n",
       "    </tr>\n",
       "    <tr>\n",
       "      <th>455467</th>\n",
       "      <td>5</td>\n",
       "      <td>2021-11-13 07:08:00</td>\n",
       "      <td>1.18640</td>\n",
       "      <td>1.18788</td>\n",
       "      <td>1.18640</td>\n",
       "      <td>1.18774</td>\n",
       "      <td>12261.460000</td>\n",
       "    </tr>\n",
       "    <tr>\n",
       "      <th>455468</th>\n",
       "      <td>4</td>\n",
       "      <td>2021-11-13 07:09:00</td>\n",
       "      <td>1.18744</td>\n",
       "      <td>1.18789</td>\n",
       "      <td>1.18744</td>\n",
       "      <td>1.18745</td>\n",
       "      <td>6207.214000</td>\n",
       "    </tr>\n",
       "    <tr>\n",
       "      <th>455469</th>\n",
       "      <td>3</td>\n",
       "      <td>2021-11-13 07:10:00</td>\n",
       "      <td>1.18757</td>\n",
       "      <td>1.18800</td>\n",
       "      <td>1.18757</td>\n",
       "      <td>1.18800</td>\n",
       "      <td>4752.198398</td>\n",
       "    </tr>\n",
       "    <tr>\n",
       "      <th>455470</th>\n",
       "      <td>2</td>\n",
       "      <td>2021-11-13 07:11:00</td>\n",
       "      <td>1.18754</td>\n",
       "      <td>1.18755</td>\n",
       "      <td>1.18754</td>\n",
       "      <td>1.18755</td>\n",
       "      <td>2937.000000</td>\n",
       "    </tr>\n",
       "    <tr>\n",
       "      <th>455471</th>\n",
       "      <td>1</td>\n",
       "      <td>2021-11-13 07:12:00</td>\n",
       "      <td>1.18746</td>\n",
       "      <td>1.18774</td>\n",
       "      <td>1.18736</td>\n",
       "      <td>1.18774</td>\n",
       "      <td>10039.680000</td>\n",
       "    </tr>\n",
       "    <tr>\n",
       "      <th>455472</th>\n",
       "      <td>0</td>\n",
       "      <td>2021-11-13 07:13:00</td>\n",
       "      <td>1.18774</td>\n",
       "      <td>1.18774</td>\n",
       "      <td>1.18774</td>\n",
       "      <td>1.18774</td>\n",
       "      <td>0.000000</td>\n",
       "    </tr>\n",
       "  </tbody>\n",
       "</table>\n",
       "</div>"
      ],
      "text/plain": [
       "        index                date     open     high      low    close  \\\n",
       "455459     13 2021-11-13 07:00:00  1.18935  1.18966  1.18811  1.18811   \n",
       "455460     12 2021-11-13 07:01:00  1.18811  1.18811  1.18786  1.18786   \n",
       "455461     11 2021-11-13 07:02:00  1.18746  1.18746  1.18719  1.18719   \n",
       "455462     10 2021-11-13 07:03:00  1.18699  1.18699  1.18615  1.18615   \n",
       "455463      9 2021-11-13 07:04:00  1.18637  1.18692  1.18590  1.18692   \n",
       "455464      8 2021-11-13 07:05:00  1.18693  1.18704  1.18693  1.18704   \n",
       "455465      7 2021-11-13 07:06:00  1.18704  1.18711  1.18704  1.18711   \n",
       "455466      6 2021-11-13 07:07:00  1.18712  1.18712  1.18638  1.18638   \n",
       "455467      5 2021-11-13 07:08:00  1.18640  1.18788  1.18640  1.18774   \n",
       "455468      4 2021-11-13 07:09:00  1.18744  1.18789  1.18744  1.18745   \n",
       "455469      3 2021-11-13 07:10:00  1.18757  1.18800  1.18757  1.18800   \n",
       "455470      2 2021-11-13 07:11:00  1.18754  1.18755  1.18754  1.18755   \n",
       "455471      1 2021-11-13 07:12:00  1.18746  1.18774  1.18736  1.18774   \n",
       "455472      0 2021-11-13 07:13:00  1.18774  1.18774  1.18774  1.18774   \n",
       "\n",
       "          Volume XRP  \n",
       "455459  17609.185584  \n",
       "455460   3884.133632  \n",
       "455461   2296.059401  \n",
       "455462   8104.118132  \n",
       "455463  14174.889000  \n",
       "455464   8426.218342  \n",
       "455465    301.891636  \n",
       "455466   6401.207537  \n",
       "455467  12261.460000  \n",
       "455468   6207.214000  \n",
       "455469   4752.198398  \n",
       "455470   2937.000000  \n",
       "455471  10039.680000  \n",
       "455472      0.000000  "
      ]
     },
     "execution_count": 214,
     "metadata": {},
     "output_type": "execute_result"
    }
   ],
   "source": [
    "temp = df.loc[(df['date'] >= '2021-11-13 07:00') & (df['date'] <= '2021-11-13 07:15')]\n",
    "temp"
   ]
  },
  {
   "cell_type": "code",
   "execution_count": 218,
   "metadata": {},
   "outputs": [
    {
     "data": {
      "image/png": "[encoded data removed]",
      "text/plain": [
       "<Figure size 600x400 with 1 Axes>"
      ]
     },
     "metadata": {
      "needs_background": "light"
     },
     "output_type": "display_data"
    }
   ],
   "source": [
    "buy_dates = ['2021-11-13 07:13:00', '2021-11-13 07:03:00', '2021-11-13 07:10:00']\n",
    "sell_dates = ['2021-11-13 07:06:00', '2021-11-13 07:02:00', '2021-11-13 07:00:00']\n",
    "fig, ax = plt.subplots(1, 1, figsize=(6,4), dpi=100)\n",
    "buy_prices = [df.loc[df['date']==t, 'close'] for t in buy_dates]\n",
    "sell_prices = [df.loc[df['date']==t, 'close'] for t in sell_dates]\n",
    "# ax.plot(temp.date, temp.close)\n",
    "ax.plot(temp['date'], temp['close'], color='black', label='XRP')\n",
    "ax.scatter(buy_dates, buy_prices, c='green', alpha=0.5, label='buy')\n",
    "ax.scatter(sell_dates, sell_prices, c='red', alpha=0.5, label='sell')\n",
    "ax.legend()\n",
    "ax.grid()"
   ]
  },
  {
   "cell_type": "code",
   "execution_count": 222,
   "metadata": {},
   "outputs": [
    {
     "data": {
      "text/plain": [
       "array(['2021-01-01T00:24:00.000000000', '2021-01-01T00:35:00.000000000'],\n",
       "      dtype='datetime64[ns]')"
      ]
     },
     "execution_count": 222,
     "metadata": {},
     "output_type": "execute_result"
    }
   ],
   "source": [
    "df.loc[[23, 34], 'date'].values"
   ]
  },
  {
   "cell_type": "code",
   "execution_count": 7,
   "metadata": {},
   "outputs": [],
   "source": [
    "start_dt = '2021-01-01'\n",
    "end_dt = '2021-02-01'\n",
    "df = df.loc[(df['date'] >= start_dt) & (df['date'] <= end_dt)]"
   ]
  },
  {
   "cell_type": "code",
   "execution_count": 206,
   "metadata": {},
   "outputs": [
    {
     "data": {
      "text/plain": [
       "453613"
      ]
     },
     "execution_count": 206,
     "metadata": {},
     "output_type": "execute_result"
    }
   ],
   "source": [
    "df.loc[df['date'] == '2021-01-02 07:00'].index[0]"
   ]
  },
  {
   "cell_type": "code",
   "execution_count": 174,
   "metadata": {},
   "outputs": [
    {
     "data": {
      "text/plain": [
       "(Timestamp('2021-01-01 00:01:00'), Timestamp('2021-02-01 00:00:00'))"
      ]
     },
     "execution_count": 174,
     "metadata": {},
     "output_type": "execute_result"
    }
   ],
   "source": [
    "min(df['date']), max(df['date'])"
   ]
  },
  {
   "cell_type": "code",
   "execution_count": 205,
   "metadata": {},
   "outputs": [
    {
     "data": {
      "text/plain": [
       "(Timestamp('2021-02-01 00:00:00'), Timestamp('2021-01-01 00:01:00'))"
      ]
     },
     "execution_count": 205,
     "metadata": {},
     "output_type": "execute_result"
    }
   ],
   "source": [
    "df.loc[410833].date, df.loc[455472].date"
   ]
  },
  {
   "cell_type": "code",
   "execution_count": 11,
   "metadata": {},
   "outputs": [],
   "source": []
  },
  {
   "cell_type": "code",
   "execution_count": 18,
   "metadata": {},
   "outputs": [],
   "source": [
    "def _rsi(df, com=13):\n",
    "    delta = df.close.diff()\n",
    "    up = delta.clip(lower=0)\n",
    "    down = -1*delta.clip(upper=0)\n",
    "    ema_up = up.ewm(com=com, adjust=False).mean()\n",
    "    ema_down = down.ewm(com=com, adjust=False).mean()\n",
    "    rs = ema_up/ema_down\n",
    "    return rs"
   ]
  },
  {
   "cell_type": "code",
   "execution_count": 21,
   "metadata": {},
   "outputs": [
    {
     "name": "stderr",
     "output_type": "stream",
     "text": [
      "/Users/vinay/miniforge3/lib/python3.9/site-packages/pandas/core/indexing.py:1773: SettingWithCopyWarning: \n",
      "A value is trying to be set on a copy of a slice from a DataFrame.\n",
      "Try using .loc[row_indexer,col_indexer] = value instead\n",
      "\n",
      "See the caveats in the documentation: https://pandas.pydata.org/pandas-docs/stable/user_guide/indexing.html#returning-a-view-versus-a-copy\n",
      "  self._setitem_single_column(ilocs[0], value, pi)\n"
     ]
    }
   ],
   "source": [
    "df.loc[:, 'rsi'] = _rsi(df)"
   ]
  },
  {
   "cell_type": "code",
   "execution_count": 23,
   "metadata": {},
   "outputs": [
    {
     "data": {
      "text/plain": [
       "1859"
      ]
     },
     "execution_count": 23,
     "metadata": {},
     "output_type": "execute_result"
    }
   ],
   "source": [
    "df[df.date == '2021-01-02 07:00'].index[0]"
   ]
  }
 ],
 "metadata": {
  "kernelspec": {
   "display_name": "Python 3 (ipykernel)",
   "language": "python",
   "name": "python3"
  },
  "language_info": {
   "codemirror_mode": {
    "name": "ipython",
    "version": 3
   },
   "file_extension": ".py",
   "mimetype": "text/x-python",
   "name": "python",
   "nbconvert_exporter": "python",
   "pygments_lexer": "ipython3",
   "version": "3.9.7"
  }
 },
 "nbformat": 4,
 "nbformat_minor": 4
}
